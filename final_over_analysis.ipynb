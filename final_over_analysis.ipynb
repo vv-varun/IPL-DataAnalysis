{
 "cells": [
  {
   "cell_type": "code",
   "execution_count": null,
   "id": "accessory-hopkins",
   "metadata": {},
   "outputs": [],
   "source": [
    "# Prepare Data\n",
    "#\n",
    "import pandas as pd;\n",
    "data = pd.read_csv('data_files/final_over_data.csv');\n",
    "\n",
    "# Use the match_id as the Key / Index column.\n",
    "data.set_index(\"match_id\", inplace = True)\n",
    "\n",
    "# We have runs to win (numerical data). If the runs to win in last over are more than 36, the match is anyways lost.\n",
    "# So, we'll convert it to Runs per bowl required. Anything above 36 will be considered as 7\n",
    "# We'll bin it so that we dont have the continious data.\n",
    "cut_labels = ['1','2','3','4','5','6', '7'];\n",
    "cut_bins = [0, 6, 12, 18, 24, 30, 36, 200];\n",
    "\n",
    "# Insert directly after runs to win column.\n",
    "data.insert(3,'RPB',pd.cut(data['runs_to_win'], bins=cut_bins, labels=cut_labels))\n",
    "data.head()"
   ]
  },
  {
   "cell_type": "code",
   "execution_count": 11,
   "id": "literary-robertson",
   "metadata": {},
   "outputs": [],
   "source": [
    "# This is the simplest version of Analysis (my first version)\n",
    "# We'll use a Decision Tree Classifier\n",
    "#\n",
    "# \n",
    "from sklearn import tree\n",
    "from sklearn.model_selection import train_test_split\n",
    "import graphviz\n",
    "\n",
    "# Split the training data into Train and Test.\n",
    "train_set, test_set = train_test_split(data, test_size=0.2)\n",
    "\n",
    "\n",
    "# Training columns. For now, I'm taking only few columns.\n",
    "X = train_set[[\"innings_1_score\",\"RPB\",\"wickets_in_hand\",\"bowler_econ\",\"bowler_boundaries\",\"batsman_sr\",\"boundaries\"]]\n",
    "y = train_set[\"match_result\"]\n",
    "#y=y.astype('int')\n",
    "\n",
    "# For now, we'll create a default tree. We'll see the accuracy / complexity and then decide the parameters.\n",
    "# Some things to be adjusted are max_leaf_nodes\n",
    "#\n",
    "clf = tree.DecisionTreeClassifier()\n",
    "clf=clf.fit(X,y)\n"
   ]
  },
  {
   "cell_type": "code",
   "execution_count": null,
   "id": "peripheral-azerbaijan",
   "metadata": {},
   "outputs": [],
   "source": [
    "# Export the tree as a image.\n",
    "import matplotlib.pyplot as plt\n",
    "\n",
    "fn=[\"innings_1_score\",\"RPB\",\"wickets_in_hand\",\"bowler_econ\",\"bowler_boundaries\",\"batsman_sr\",\"boundaries\"]\n",
    "cn=['Won','Lost']\n",
    "fig, axes = plt.subplots(nrows = 1,ncols = 1,figsize = (8,8), dpi=1000)\n",
    "tree.plot_tree(clf,\n",
    "               feature_names = fn, \n",
    "               class_names=cn,\n",
    "               filled = True);\n",
    "fig.savefig('decision_tree.png')"
   ]
  },
  {
   "cell_type": "code",
   "execution_count": 15,
   "id": "electronic-modem",
   "metadata": {},
   "outputs": [
    {
     "data": {
      "text/plain": [
       "0.8615384615384616"
      ]
     },
     "execution_count": 15,
     "metadata": {},
     "output_type": "execute_result"
    }
   ],
   "source": [
    "# Test the Decision tree to calculate the accuracy\n",
    "test_results = clf.predict(test_set[[\"innings_1_score\",\"RPB\",\"wickets_in_hand\",\"bowler_econ\",\"bowler_boundaries\",\"batsman_sr\",\"boundaries\"]])\n",
    "\n",
    "from sklearn.metrics import accuracy_score\n",
    "accuracy_score(test_set[\"match_result\"],test_results)\n"
   ]
  },
  {
   "cell_type": "code",
   "execution_count": 16,
   "id": "looking-charge",
   "metadata": {},
   "outputs": [
    {
     "data": {
      "image/png": "[encoded data removed]",
      "text/plain": [
       "<Figure size 432x288 with 2 Axes>"
      ]
     },
     "metadata": {
      "needs_background": "light"
     },
     "output_type": "display_data"
    }
   ],
   "source": [
    "# Plot the confusion matrix to understand the prediction results.\n",
    "from sklearn.metrics import plot_confusion_matrix\n",
    "X_test = test_set[[\"innings_1_score\",\"RPB\",\"wickets_in_hand\",\"bowler_econ\",\"bowler_boundaries\",\"batsman_sr\",\"boundaries\"]]\n",
    "y_test = test_set[\"match_result\"]\n",
    "plot_confusion_matrix(clf, X_test, y_test)\n",
    "plt.show()"
   ]
  },
  {
   "cell_type": "code",
   "execution_count": 43,
   "id": "selective-antique",
   "metadata": {},
   "outputs": [
    {
     "data": {
      "text/html": [
       "<div>\n",
       "<style scoped>\n",
       "    .dataframe tbody tr th:only-of-type {\n",
       "        vertical-align: middle;\n",
       "    }\n",
       "\n",
       "    .dataframe tbody tr th {\n",
       "        vertical-align: top;\n",
       "    }\n",
       "\n",
       "    .dataframe thead th {\n",
       "        text-align: right;\n",
       "    }\n",
       "</style>\n",
       "<table border=\"1\" class=\"dataframe\">\n",
       "  <thead>\n",
       "    <tr style=\"text-align: right;\">\n",
       "      <th></th>\n",
       "      <th>act</th>\n",
       "      <th>predicted_result</th>\n",
       "    </tr>\n",
       "  </thead>\n",
       "  <tbody>\n",
       "    <tr>\n",
       "      <th>0</th>\n",
       "      <td>Lost</td>\n",
       "      <td>NaN</td>\n",
       "    </tr>\n",
       "    <tr>\n",
       "      <th>1</th>\n",
       "      <td>Won</td>\n",
       "      <td>NaN</td>\n",
       "    </tr>\n",
       "    <tr>\n",
       "      <th>2</th>\n",
       "      <td>Won</td>\n",
       "      <td>NaN</td>\n",
       "    </tr>\n",
       "    <tr>\n",
       "      <th>3</th>\n",
       "      <td>Lost</td>\n",
       "      <td>NaN</td>\n",
       "    </tr>\n",
       "    <tr>\n",
       "      <th>4</th>\n",
       "      <td>Lost</td>\n",
       "      <td>NaN</td>\n",
       "    </tr>\n",
       "  </tbody>\n",
       "</table>\n",
       "</div>"
      ],
      "text/plain": [
       "    act predicted_result\n",
       "0  Lost              NaN\n",
       "1   Won              NaN\n",
       "2   Won              NaN\n",
       "3  Lost              NaN\n",
       "4  Lost              NaN"
      ]
     },
     "execution_count": 43,
     "metadata": {},
     "output_type": "execute_result"
    }
   ],
   "source": [
    "# Analyze which matches were not predicted correctly.\n",
    "#test_results\n",
    "#tr = pd.DataFrame(test_results, columns=['act'])\n",
    "#tr.insert(1,'predicted_result',test_set[\"match_result\"])\n",
    "#tr.head()\n",
    "#act_vs_predicted = test_set[\"match_result\"]\n",
    "#act_vs_predicted['predicted_result'] = tr[\"act\"]\n",
    "#act_vs_predicted.insert(1,'predicted_result',tr[\"act\"])\n",
    "#pd.concat([act_vs_predicted, pd.DataFrame(test_results)], axis=1)\n",
    "#act_vs_predicted.head()"
   ]
  },
  {
   "cell_type": "code",
   "execution_count": null,
   "id": "royal-edinburgh",
   "metadata": {},
   "outputs": [],
   "source": []
  }
 ],
 "metadata": {
  "kernelspec": {
   "display_name": "Python 3",
   "language": "python",
   "name": "python3"
  },
  "language_info": {
   "codemirror_mode": {
    "name": "ipython",
    "version": 3
   },
   "file_extension": ".py",
   "mimetype": "text/x-python",
   "name": "python",
   "nbconvert_exporter": "python",
   "pygments_lexer": "ipython3",
   "version": "3.9.0"
  }
 },
 "nbformat": 4,
 "nbformat_minor": 5
}
