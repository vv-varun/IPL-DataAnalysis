{
 "cells": [
  {
   "cell_type": "code",
   "execution_count": null,
   "id": "green-ridge",
   "metadata": {},
   "outputs": [],
   "source": [
    "# Prepare Data\n",
    "#\n",
    "import pandas as pd;\n",
    "\n",
    "# In this data set - we only have the current match stats of bowlers and matsman.\n",
    "data = pd.read_csv('../data_files/final_over_data.csv');\n",
    "\n",
    "# Use the match_id as the Key / Index column.\n",
    "data.set_index(\"match_id\", inplace = True)\n",
    "\n",
    "# We have runs to win (numerical data). If the runs to win in last over are more than 36, the match is anyways lost.\n",
    "# So, we'll convert it to Runs per bowl required. Anything above 36 will be considered as 7\n",
    "# We'll bin it so that we dont have the continious data.\n",
    "cut_labels = ['1','2','3','4','5','6', '7'];\n",
    "cut_bins = [0, 6, 12, 18, 24, 30, 36, 200];\n",
    "\n",
    "# Insert directly after runs to win column.\n",
    "data.insert(3,'RPB',pd.cut(data['runs_to_win'], bins=cut_bins, labels=cut_labels))\n",
    "data.head()"
   ]
  },
  {
   "cell_type": "code",
   "execution_count": 30,
   "id": "everyday-coach",
   "metadata": {},
   "outputs": [],
   "source": [
    "# This is the simplest version of Analysis (my first version)\n",
    "# We'll use a Decision Tree Classifier\n",
    "#\n",
    "# \n",
    "from sklearn import tree\n",
    "from sklearn.ensemble import RandomForestClassifier\n",
    "from sklearn.model_selection import train_test_split\n",
    "import graphviz\n",
    "from sklearn.metrics import accuracy_score\n",
    "\n",
    "# Split the training data into Train and Test.\n",
    "train_set, test_set = train_test_split(data, test_size=0.2)\n",
    "\n",
    "# Training columns. For now, I'm taking only few columns.\n",
    "feature_columns = [\"innings_1_score\",\"RPB\",\"wickets_in_hand\",\"bowler_econ\",\"bowler_boundaries\",\"batsman_sr\",\"boundaries\"]\n",
    "X = train_set[feature_columns]\n",
    "y = train_set[\"match_result\"]\n",
    "#y=y.astype('int')\n",
    "\n",
    "def decision_tree(params,feature,results):\n",
    "    classifier = tree.DecisionTreeClassifier(**params)\n",
    "    classifier = classifier.fit(feature,results)\n",
    "    return classifier\n",
    "\n",
    "def check_accuracy(classifier):\n",
    "    test_results = clf.predict(test_set[feature_columns])\n",
    "    return accuracy_score(test_set[\"match_result\"],test_results)\n",
    "\n",
    "def random_forest(params,feature,results):\n",
    "    classifier = RandomForestClassifier(**params)\n",
    "    classifier = classifier.fit(feature,results)\n",
    "    return classifier\n",
    "\n",
    "# For now, we'll create a default tree. We'll see the accuracy / complexity and then decide the parameters.\n",
    "# Some things to be adjusted are max_leaf_nodes\n",
    "#\n"
   ]
  },
  {
   "cell_type": "code",
   "execution_count": 25,
   "id": "regulation-crown",
   "metadata": {},
   "outputs": [
    {
     "name": "stdout",
     "output_type": "stream",
     "text": [
      "Accuracy with default parameters is:  0.8307692307692308\n",
      "Accuracy with Max depth 5 is:  0.8615384615384616\n",
      "Accuracy with Max depth 10 is:  0.8307692307692308\n",
      "Accuracy with Max depth 15 is:  0.8615384615384616\n",
      "Accuracy with Max depth 20 is:  0.8615384615384616\n"
     ]
    }
   ],
   "source": [
    "# Test with default parameters\n",
    "params = {}\n",
    "clf = decision_tree(params,X,y)\n",
    "print(\"Accuracy with default parameters is: \", check_accuracy(clf))\n",
    "\n",
    "params = {\"max_depth\": 5}\n",
    "clf = decision_tree(params,X,y)\n",
    "print(\"Accuracy with Max depth 5 is: \", check_accuracy(clf))\n",
    "\n",
    "params = {\"max_depth\": 10}\n",
    "clf = decision_tree(params,X,y)\n",
    "print(\"Accuracy with Max depth 10 is: \", check_accuracy(clf))\n",
    "\n",
    "params = {\"max_depth\": 15}\n",
    "clf = decision_tree(params,X,y)\n",
    "print(\"Accuracy with Max depth 15 is: \", check_accuracy(clf))\n",
    "\n",
    "params = {\"max_depth\": 20}\n",
    "clf = decision_tree(params,X,y)\n",
    "print(\"Accuracy with Max depth 20 is: \", check_accuracy(clf))"
   ]
  },
  {
   "cell_type": "code",
   "execution_count": 31,
   "id": "spread-anniversary",
   "metadata": {},
   "outputs": [
    {
     "name": "stdout",
     "output_type": "stream",
     "text": [
      "Accuracy with default parameters is:  0.8923076923076924\n",
      "Accuracy with Max depth 5 is:  0.8923076923076924\n",
      "Accuracy with Max depth 10 is:  0.9230769230769231\n",
      "Accuracy with Max depth 15 is:  0.8923076923076924\n",
      "Accuracy with Max depth 20 is:  0.9076923076923077\n"
     ]
    }
   ],
   "source": [
    "# Test with default parameters\n",
    "params = {}\n",
    "clf = random_forest(params,X,y)\n",
    "print(\"Accuracy with default parameters is: \", check_accuracy(clf))\n",
    "\n",
    "params = {\"max_depth\": 5}\n",
    "clf = random_forest(params,X,y)\n",
    "print(\"Accuracy with Max depth 5 is: \", check_accuracy(clf))\n",
    "\n",
    "params = {\"max_depth\": 10}\n",
    "clf = random_forest(params,X,y)\n",
    "print(\"Accuracy with Max depth 10 is: \", check_accuracy(clf))\n",
    "\n",
    "params = {\"max_depth\": 15}\n",
    "clf = random_forest(params,X,y)\n",
    "print(\"Accuracy with Max depth 15 is: \", check_accuracy(clf))\n",
    "\n",
    "params = {\"max_depth\": 20}\n",
    "clf = random_forest(params,X,y)\n",
    "print(\"Accuracy with Max depth 20 is: \", check_accuracy(clf))"
   ]
  },
  {
   "cell_type": "code",
   "execution_count": null,
   "id": "heated-pierre",
   "metadata": {},
   "outputs": [],
   "source": [
    "# Plot the confusion matrix to understand the prediction results.\n",
    "from sklearn.metrics import plot_confusion_matrix\n",
    "X_test = test_set[feature_columns]\n",
    "y_test = test_set[\"match_result\"]\n",
    "plot_confusion_matrix(clf, X_test, y_test)"
   ]
  },
  {
   "cell_type": "code",
   "execution_count": null,
   "id": "dynamic-inclusion",
   "metadata": {},
   "outputs": [],
   "source": [
    "# Export the tree as a image.\n",
    "import matplotlib.pyplot as plt\n",
    "\n",
    "cn=['Won','Lost']\n",
    "fig, axes = plt.subplots(nrows = 1,ncols = 1,figsize = (8,8), dpi=1000)\n",
    "tree.plot_tree(clf,\n",
    "               feature_names = feature_columns, \n",
    "               class_names=cn,\n",
    "               filled = True);\n",
    "fig.savefig('v1_tree.png')"
   ]
  },
  {
   "cell_type": "code",
   "execution_count": 26,
   "id": "loose-walnut",
   "metadata": {},
   "outputs": [
    {
     "data": {
      "text/plain": [
       "['ml_model.joblib']"
      ]
     },
     "execution_count": 26,
     "metadata": {},
     "output_type": "execute_result"
    }
   ],
   "source": [
    "# Save model as a file\n",
    "from joblib import dump\n",
    "dump(clf, 'ml_model.joblib')"
   ]
  },
  {
   "cell_type": "code",
   "execution_count": 29,
   "id": "sunrise-branch",
   "metadata": {},
   "outputs": [
    {
     "ename": "TypeError",
     "evalue": "float() argument must be a string or a number, not 'dict'",
     "output_type": "error",
     "traceback": [
      "\u001b[1;31m---------------------------------------------------------------------------\u001b[0m",
      "\u001b[1;31mTypeError\u001b[0m                                 Traceback (most recent call last)",
      "\u001b[1;32m<ipython-input-29-a47dc45d4e09>\u001b[0m in \u001b[0;36m<module>\u001b[1;34m\u001b[0m\n\u001b[0;32m      9\u001b[0m \u001b[0mtest_results\u001b[0m \u001b[1;33m=\u001b[0m \u001b[0mmymodel\u001b[0m\u001b[1;33m.\u001b[0m\u001b[0mpredict\u001b[0m\u001b[1;33m(\u001b[0m\u001b[0mtdf\u001b[0m\u001b[1;33m)\u001b[0m\u001b[1;33m\u001b[0m\u001b[1;33m\u001b[0m\u001b[0m\n\u001b[0;32m     10\u001b[0m \u001b[0mtest_results\u001b[0m\u001b[1;33m\u001b[0m\u001b[1;33m\u001b[0m\u001b[0m\n\u001b[1;32m---> 11\u001b[1;33m \u001b[0mclf\u001b[0m\u001b[1;33m.\u001b[0m\u001b[0mdecision_path\u001b[0m\u001b[1;33m(\u001b[0m\u001b[1;33m[\u001b[0m\u001b[1;33m{\u001b[0m\u001b[1;34m'innings_1_score'\u001b[0m\u001b[1;33m:\u001b[0m \u001b[1;36m170\u001b[0m\u001b[1;33m,\u001b[0m\u001b[1;34m'RPB'\u001b[0m\u001b[1;33m:\u001b[0m \u001b[1;36m2\u001b[0m\u001b[1;33m,\u001b[0m\u001b[1;34m'wickets_in_hand'\u001b[0m\u001b[1;33m:\u001b[0m \u001b[1;36m5\u001b[0m\u001b[1;33m,\u001b[0m\u001b[1;34m'bowler_econ'\u001b[0m\u001b[1;33m:\u001b[0m \u001b[1;36m9\u001b[0m\u001b[1;33m,\u001b[0m\u001b[1;34m'bowler_boundaries'\u001b[0m\u001b[1;33m:\u001b[0m \u001b[1;36m7\u001b[0m\u001b[1;33m,\u001b[0m\u001b[1;34m'batsman_sr'\u001b[0m\u001b[1;33m:\u001b[0m \u001b[1;36m125\u001b[0m\u001b[1;33m,\u001b[0m\u001b[1;34m'boundaries'\u001b[0m\u001b[1;33m:\u001b[0m \u001b[1;36m3\u001b[0m\u001b[1;33m}\u001b[0m\u001b[1;33m]\u001b[0m\u001b[1;33m)\u001b[0m\u001b[1;33m\u001b[0m\u001b[1;33m\u001b[0m\u001b[0m\n\u001b[0m\u001b[0;32m     12\u001b[0m \u001b[1;33m\u001b[0m\u001b[0m\n\u001b[0;32m     13\u001b[0m \u001b[1;31m#accuracy_score(test_set[\"match_result\"],test_results)\u001b[0m\u001b[1;33m\u001b[0m\u001b[1;33m\u001b[0m\u001b[1;33m\u001b[0m\u001b[0m\n",
      "\u001b[1;32mc:\\python39\\lib\\site-packages\\sklearn\\tree\\_classes.py\u001b[0m in \u001b[0;36mdecision_path\u001b[1;34m(self, X, check_input)\u001b[0m\n\u001b[0;32m    513\u001b[0m             \u001b[0mindicates\u001b[0m \u001b[0mthat\u001b[0m \u001b[0mthe\u001b[0m \u001b[0msamples\u001b[0m \u001b[0mgoes\u001b[0m \u001b[0mthrough\u001b[0m \u001b[0mthe\u001b[0m \u001b[0mnodes\u001b[0m\u001b[1;33m.\u001b[0m\u001b[1;33m\u001b[0m\u001b[1;33m\u001b[0m\u001b[0m\n\u001b[0;32m    514\u001b[0m         \"\"\"\n\u001b[1;32m--> 515\u001b[1;33m         \u001b[0mX\u001b[0m \u001b[1;33m=\u001b[0m \u001b[0mself\u001b[0m\u001b[1;33m.\u001b[0m\u001b[0m_validate_X_predict\u001b[0m\u001b[1;33m(\u001b[0m\u001b[0mX\u001b[0m\u001b[1;33m,\u001b[0m \u001b[0mcheck_input\u001b[0m\u001b[1;33m)\u001b[0m\u001b[1;33m\u001b[0m\u001b[1;33m\u001b[0m\u001b[0m\n\u001b[0m\u001b[0;32m    516\u001b[0m         \u001b[1;32mreturn\u001b[0m \u001b[0mself\u001b[0m\u001b[1;33m.\u001b[0m\u001b[0mtree_\u001b[0m\u001b[1;33m.\u001b[0m\u001b[0mdecision_path\u001b[0m\u001b[1;33m(\u001b[0m\u001b[0mX\u001b[0m\u001b[1;33m)\u001b[0m\u001b[1;33m\u001b[0m\u001b[1;33m\u001b[0m\u001b[0m\n\u001b[0;32m    517\u001b[0m \u001b[1;33m\u001b[0m\u001b[0m\n",
      "\u001b[1;32mc:\\python39\\lib\\site-packages\\sklearn\\tree\\_classes.py\u001b[0m in \u001b[0;36m_validate_X_predict\u001b[1;34m(self, X, check_input)\u001b[0m\n\u001b[0;32m    400\u001b[0m         \u001b[1;34m\"\"\"Validate the training data on predict (probabilities).\"\"\"\u001b[0m\u001b[1;33m\u001b[0m\u001b[1;33m\u001b[0m\u001b[0m\n\u001b[0;32m    401\u001b[0m         \u001b[1;32mif\u001b[0m \u001b[0mcheck_input\u001b[0m\u001b[1;33m:\u001b[0m\u001b[1;33m\u001b[0m\u001b[1;33m\u001b[0m\u001b[0m\n\u001b[1;32m--> 402\u001b[1;33m             X = self._validate_data(X, dtype=DTYPE, accept_sparse=\"csr\",\n\u001b[0m\u001b[0;32m    403\u001b[0m                                     reset=False)\n\u001b[0;32m    404\u001b[0m             if issparse(X) and (X.indices.dtype != np.intc or\n",
      "\u001b[1;32mc:\\python39\\lib\\site-packages\\sklearn\\base.py\u001b[0m in \u001b[0;36m_validate_data\u001b[1;34m(self, X, y, reset, validate_separately, **check_params)\u001b[0m\n\u001b[0;32m    419\u001b[0m             \u001b[0mout\u001b[0m \u001b[1;33m=\u001b[0m \u001b[0mX\u001b[0m\u001b[1;33m\u001b[0m\u001b[1;33m\u001b[0m\u001b[0m\n\u001b[0;32m    420\u001b[0m         \u001b[1;32melif\u001b[0m \u001b[0misinstance\u001b[0m\u001b[1;33m(\u001b[0m\u001b[0my\u001b[0m\u001b[1;33m,\u001b[0m \u001b[0mstr\u001b[0m\u001b[1;33m)\u001b[0m \u001b[1;32mand\u001b[0m \u001b[0my\u001b[0m \u001b[1;33m==\u001b[0m \u001b[1;34m'no_validation'\u001b[0m\u001b[1;33m:\u001b[0m\u001b[1;33m\u001b[0m\u001b[1;33m\u001b[0m\u001b[0m\n\u001b[1;32m--> 421\u001b[1;33m             \u001b[0mX\u001b[0m \u001b[1;33m=\u001b[0m \u001b[0mcheck_array\u001b[0m\u001b[1;33m(\u001b[0m\u001b[0mX\u001b[0m\u001b[1;33m,\u001b[0m \u001b[1;33m**\u001b[0m\u001b[0mcheck_params\u001b[0m\u001b[1;33m)\u001b[0m\u001b[1;33m\u001b[0m\u001b[1;33m\u001b[0m\u001b[0m\n\u001b[0m\u001b[0;32m    422\u001b[0m             \u001b[0mout\u001b[0m \u001b[1;33m=\u001b[0m \u001b[0mX\u001b[0m\u001b[1;33m\u001b[0m\u001b[1;33m\u001b[0m\u001b[0m\n\u001b[0;32m    423\u001b[0m         \u001b[1;32melse\u001b[0m\u001b[1;33m:\u001b[0m\u001b[1;33m\u001b[0m\u001b[1;33m\u001b[0m\u001b[0m\n",
      "\u001b[1;32mc:\\python39\\lib\\site-packages\\sklearn\\utils\\validation.py\u001b[0m in \u001b[0;36minner_f\u001b[1;34m(*args, **kwargs)\u001b[0m\n\u001b[0;32m     61\u001b[0m             \u001b[0mextra_args\u001b[0m \u001b[1;33m=\u001b[0m \u001b[0mlen\u001b[0m\u001b[1;33m(\u001b[0m\u001b[0margs\u001b[0m\u001b[1;33m)\u001b[0m \u001b[1;33m-\u001b[0m \u001b[0mlen\u001b[0m\u001b[1;33m(\u001b[0m\u001b[0mall_args\u001b[0m\u001b[1;33m)\u001b[0m\u001b[1;33m\u001b[0m\u001b[1;33m\u001b[0m\u001b[0m\n\u001b[0;32m     62\u001b[0m             \u001b[1;32mif\u001b[0m \u001b[0mextra_args\u001b[0m \u001b[1;33m<=\u001b[0m \u001b[1;36m0\u001b[0m\u001b[1;33m:\u001b[0m\u001b[1;33m\u001b[0m\u001b[1;33m\u001b[0m\u001b[0m\n\u001b[1;32m---> 63\u001b[1;33m                 \u001b[1;32mreturn\u001b[0m \u001b[0mf\u001b[0m\u001b[1;33m(\u001b[0m\u001b[1;33m*\u001b[0m\u001b[0margs\u001b[0m\u001b[1;33m,\u001b[0m \u001b[1;33m**\u001b[0m\u001b[0mkwargs\u001b[0m\u001b[1;33m)\u001b[0m\u001b[1;33m\u001b[0m\u001b[1;33m\u001b[0m\u001b[0m\n\u001b[0m\u001b[0;32m     64\u001b[0m \u001b[1;33m\u001b[0m\u001b[0m\n\u001b[0;32m     65\u001b[0m             \u001b[1;31m# extra_args > 0\u001b[0m\u001b[1;33m\u001b[0m\u001b[1;33m\u001b[0m\u001b[1;33m\u001b[0m\u001b[0m\n",
      "\u001b[1;32mc:\\python39\\lib\\site-packages\\sklearn\\utils\\validation.py\u001b[0m in \u001b[0;36mcheck_array\u001b[1;34m(array, accept_sparse, accept_large_sparse, dtype, order, copy, force_all_finite, ensure_2d, allow_nd, ensure_min_samples, ensure_min_features, estimator)\u001b[0m\n\u001b[0;32m    614\u001b[0m                     \u001b[0marray\u001b[0m \u001b[1;33m=\u001b[0m \u001b[0marray\u001b[0m\u001b[1;33m.\u001b[0m\u001b[0mastype\u001b[0m\u001b[1;33m(\u001b[0m\u001b[0mdtype\u001b[0m\u001b[1;33m,\u001b[0m \u001b[0mcasting\u001b[0m\u001b[1;33m=\u001b[0m\u001b[1;34m\"unsafe\"\u001b[0m\u001b[1;33m,\u001b[0m \u001b[0mcopy\u001b[0m\u001b[1;33m=\u001b[0m\u001b[1;32mFalse\u001b[0m\u001b[1;33m)\u001b[0m\u001b[1;33m\u001b[0m\u001b[1;33m\u001b[0m\u001b[0m\n\u001b[0;32m    615\u001b[0m                 \u001b[1;32melse\u001b[0m\u001b[1;33m:\u001b[0m\u001b[1;33m\u001b[0m\u001b[1;33m\u001b[0m\u001b[0m\n\u001b[1;32m--> 616\u001b[1;33m                     \u001b[0marray\u001b[0m \u001b[1;33m=\u001b[0m \u001b[0mnp\u001b[0m\u001b[1;33m.\u001b[0m\u001b[0masarray\u001b[0m\u001b[1;33m(\u001b[0m\u001b[0marray\u001b[0m\u001b[1;33m,\u001b[0m \u001b[0morder\u001b[0m\u001b[1;33m=\u001b[0m\u001b[0morder\u001b[0m\u001b[1;33m,\u001b[0m \u001b[0mdtype\u001b[0m\u001b[1;33m=\u001b[0m\u001b[0mdtype\u001b[0m\u001b[1;33m)\u001b[0m\u001b[1;33m\u001b[0m\u001b[1;33m\u001b[0m\u001b[0m\n\u001b[0m\u001b[0;32m    617\u001b[0m             \u001b[1;32mexcept\u001b[0m \u001b[0mComplexWarning\u001b[0m \u001b[1;32mas\u001b[0m \u001b[0mcomplex_warning\u001b[0m\u001b[1;33m:\u001b[0m\u001b[1;33m\u001b[0m\u001b[1;33m\u001b[0m\u001b[0m\n\u001b[0;32m    618\u001b[0m                 raise ValueError(\"Complex data not supported\\n\"\n",
      "\u001b[1;32mc:\\python39\\lib\\site-packages\\numpy\\core\\_asarray.py\u001b[0m in \u001b[0;36masarray\u001b[1;34m(a, dtype, order, like)\u001b[0m\n\u001b[0;32m    100\u001b[0m         \u001b[1;32mreturn\u001b[0m \u001b[0m_asarray_with_like\u001b[0m\u001b[1;33m(\u001b[0m\u001b[0ma\u001b[0m\u001b[1;33m,\u001b[0m \u001b[0mdtype\u001b[0m\u001b[1;33m=\u001b[0m\u001b[0mdtype\u001b[0m\u001b[1;33m,\u001b[0m \u001b[0morder\u001b[0m\u001b[1;33m=\u001b[0m\u001b[0morder\u001b[0m\u001b[1;33m,\u001b[0m \u001b[0mlike\u001b[0m\u001b[1;33m=\u001b[0m\u001b[0mlike\u001b[0m\u001b[1;33m)\u001b[0m\u001b[1;33m\u001b[0m\u001b[1;33m\u001b[0m\u001b[0m\n\u001b[0;32m    101\u001b[0m \u001b[1;33m\u001b[0m\u001b[0m\n\u001b[1;32m--> 102\u001b[1;33m     \u001b[1;32mreturn\u001b[0m \u001b[0marray\u001b[0m\u001b[1;33m(\u001b[0m\u001b[0ma\u001b[0m\u001b[1;33m,\u001b[0m \u001b[0mdtype\u001b[0m\u001b[1;33m,\u001b[0m \u001b[0mcopy\u001b[0m\u001b[1;33m=\u001b[0m\u001b[1;32mFalse\u001b[0m\u001b[1;33m,\u001b[0m \u001b[0morder\u001b[0m\u001b[1;33m=\u001b[0m\u001b[0morder\u001b[0m\u001b[1;33m)\u001b[0m\u001b[1;33m\u001b[0m\u001b[1;33m\u001b[0m\u001b[0m\n\u001b[0m\u001b[0;32m    103\u001b[0m \u001b[1;33m\u001b[0m\u001b[0m\n\u001b[0;32m    104\u001b[0m \u001b[1;33m\u001b[0m\u001b[0m\n",
      "\u001b[1;31mTypeError\u001b[0m: float() argument must be a string or a number, not 'dict'"
     ]
    }
   ],
   "source": [
    "# Load Model from file\n",
    "from joblib import load\n",
    "from sklearn.metrics import accuracy_score\n",
    "\n",
    "mymodel = load('ml_model.joblib')\n",
    "\n",
    "tdf = pd.DataFrame([{'innings_1_score': 170,'RPB': 2,'wickets_in_hand': 5,'bowler_econ': 9,'bowler_boundaries': 7,'batsman_sr': 125,'boundaries': 3}])\n",
    "#tdf.head()\n",
    "test_results = mymodel.predict(tdf)\n",
    "test_results\n",
    "#clf.decision_path([{'innings_1_score': 170,'RPB': 2,'wickets_in_hand': 5,'bowler_econ': 9,'bowler_boundaries': 7,'batsman_sr': 125,'boundaries': 3}])\n",
    "\n",
    "#accuracy_score(test_set[\"match_result\"],test_results)"
   ]
  },
  {
   "cell_type": "code",
   "execution_count": null,
   "id": "likely-virus",
   "metadata": {},
   "outputs": [],
   "source": []
  }
 ],
 "metadata": {
  "kernelspec": {
   "display_name": "Python 3",
   "language": "python",
   "name": "python3"
  },
  "language_info": {
   "codemirror_mode": {
    "name": "ipython",
    "version": 3
   },
   "file_extension": ".py",
   "mimetype": "text/x-python",
   "name": "python",
   "nbconvert_exporter": "python",
   "pygments_lexer": "ipython3",
   "version": "3.9.0"
  }
 },
 "nbformat": 4,
 "nbformat_minor": 5
}
